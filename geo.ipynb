{
 "cells": [
  {
   "cell_type": "code",
   "execution_count": 1,
   "metadata": {},
   "outputs": [],
   "source": [
    "from geopy.geocoders import Nominatim\n",
    "from math import radians, sin, cos, asin, acos, sqrt, pi, atan, atan2, fabs"
   ]
  },
  {
   "cell_type": "code",
   "execution_count": 2,
   "metadata": {},
   "outputs": [],
   "source": [
    "EARTH_RADIUS = 6371.009"
   ]
  },
  {
   "cell_type": "code",
   "execution_count": 3,
   "metadata": {},
   "outputs": [],
   "source": [
    "class Point:\n",
    "\n",
    "    def __init__(self, args):\n",
    "        self.latitude = args[0]\n",
    "        self.longitude = args[1]"
   ]
  },
  {
   "cell_type": "code",
   "execution_count": 28,
   "metadata": {},
   "outputs": [],
   "source": [
    "def distance(a: Point, b: Point): # haversine\n",
    "    lat1, lon1 = radians(a.latitude), radians(a.longitude)\n",
    "    lat2, lon2 = radians(b.latitude), radians(b.longitude)\n",
    "    \n",
    "    dlat = lat2 - lat1\n",
    "    dlon = lon2 - lon1\n",
    "    \n",
    "    a = sin(dlat * 0.5)**2 + cos(lat1) * cos(lat2) * sin(dlon * 0.5)**2\n",
    "         \n",
    "    return 2 * EARTH_RADIUS * asin(sqrt(a))"
   ]
  },
  {
   "cell_type": "code",
   "execution_count": 30,
   "metadata": {},
   "outputs": [],
   "source": [
    "def distance(a: Point, b: Point): # euler\n",
    "    lat1, lon1 = radians(a.latitude), radians(a.longitude)\n",
    "    lat2, lon2 = radians(b.latitude), radians(b.longitude)\n",
    "    \n",
    "    d = sin(lat1) * sin(lat2) + cos(lat1) * cos(lat2) * cos(lon1 - lon2)\n",
    "    \n",
    "    return EARTH_RADIUS * acos(d)"
   ]
  },
  {
   "cell_type": "code",
   "execution_count": 33,
   "metadata": {},
   "outputs": [
    {
     "name": "stdout",
     "output_type": "stream",
     "text": [
      "Аэропорт Хабаровск-Новый, Земная улица, Тополевское сельское поселение, Хабаровский район, Хабаровский край, Дальневосточный федеральный округ, 680511, Россия\n",
      "Международный аэропорт Шереметьево, 46Н-13926, Химки, городской округ Химки, Московская область, Центральный федеральный округ, 141425, Россия\n",
      "Distance: 6136.11 km\n",
      "\n",
      "Аэропорт Хабаровск-Новый, Земная улица, Тополевское сельское поселение, Хабаровский район, Хабаровский край, Дальневосточный федеральный округ, 680511, Россия\n",
      "Пулково, Штурманская улица, Авиагородок, округ Пулковский меридиан, Московский район, Санкт-Петербург, Северо-Западный федеральный округ, 196210, Россия\n",
      "Distance: 6206.42 km\n",
      "\n"
     ]
    }
   ],
   "source": [
    "geolocator = Nominatim(user_agent='user_agent')\n",
    "\n",
    "khv = geolocator.geocode('khv')\n",
    "svo = geolocator.geocode('svo')\n",
    "led = geolocator.geocode('led')\n",
    "\n",
    "khv_point = Point(khv._tuple[1])\n",
    "svo_point = Point(svo._tuple[1])\n",
    "led_point = Point(led._tuple[1])\n",
    "\n",
    "print(khv.address, svo.address, sep='\\n')\n",
    "print(f'Distance: {distance(khv_point, svo_point):.2f} km\\n')\n",
    "\n",
    "print(khv.address, led.address, sep='\\n')\n",
    "print(f'Distance: {distance(khv_point, led_point):.2f} km\\n')"
   ]
  },
  {
   "cell_type": "code",
   "execution_count": null,
   "metadata": {},
   "outputs": [],
   "source": []
  },
  {
   "cell_type": "code",
   "execution_count": null,
   "metadata": {},
   "outputs": [],
   "source": []
  }
 ],
 "metadata": {
  "kernelspec": {
   "display_name": "Python 3",
   "language": "python",
   "name": "python3"
  },
  "language_info": {
   "codemirror_mode": {
    "name": "ipython",
    "version": 3
   },
   "file_extension": ".py",
   "mimetype": "text/x-python",
   "name": "python",
   "nbconvert_exporter": "python",
   "pygments_lexer": "ipython3",
   "version": "3.7.7"
  }
 },
 "nbformat": 4,
 "nbformat_minor": 4
}
