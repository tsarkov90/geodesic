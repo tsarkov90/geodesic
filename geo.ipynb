{
 "cells": [
  {
   "cell_type": "code",
   "execution_count": 1,
   "metadata": {},
   "outputs": [],
   "source": [
    "from geopy.geocoders import Nominatim\n",
    "import numpy as np"
   ]
  },
  {
   "cell_type": "code",
   "execution_count": 2,
   "metadata": {},
   "outputs": [],
   "source": [
    "EARTH_RADIUS = 6371.009"
   ]
  },
  {
   "cell_type": "code",
   "execution_count": 3,
   "metadata": {},
   "outputs": [],
   "source": [
    "class Point:\n",
    "\n",
    "    def __init__(self, args):\n",
    "        self.latitude = args[0]\n",
    "        self.longitude = args[1]\n",
    "\n",
    "\n",
    "def distance(a: Point, b: Point):\n",
    "\n",
    "    lat1, lng1 = np.radians(a.latitude), np.radians(a.longitude)\n",
    "    lat2, lng2 = np.radians(b.latitude), np.radians(b.longitude)\n",
    "\n",
    "    sin_lat1, cos_lat1 = np.sin(lat1), np.cos(lat1)\n",
    "    sin_lat2, cos_lat2 = np.sin(lat2), np.cos(lat2)\n",
    "\n",
    "    delta_lng = lng2 - lng1\n",
    "    cos_delta_lng, sin_delta_lng = np.cos(delta_lng), np.sin(delta_lng)\n",
    "\n",
    "    d = np.arctan2(np.sqrt((cos_lat2 * sin_delta_lng) ** 2 +\n",
    "                           (cos_lat1 * sin_lat2 -\n",
    "                            sin_lat1 * cos_lat2 * cos_delta_lng) ** 2),\n",
    "                   sin_lat1 * sin_lat2 + cos_lat1 * cos_lat2 * cos_delta_lng)\n",
    "\n",
    "    return EARTH_RADIUS * d"
   ]
  },
  {
   "cell_type": "code",
   "execution_count": 4,
   "metadata": {},
   "outputs": [
    {
     "name": "stdout",
     "output_type": "stream",
     "text": [
      "Аэропорт Хабаровск-Новый, Земная улица, Тополевское сельское поселение, Хабаровский район, Хабаровский край, Дальневосточный федеральный округ, 680511, Россия\n",
      "Международный аэропорт Шереметьево, 46Н-13926, Химки, городской округ Химки, Московская область, Центральный федеральный округ, 141425, Россия\n",
      "Distance: 6136.11 km\n"
     ]
    }
   ],
   "source": [
    "geolocator = Nominatim(user_agent='user_agent')\n",
    "\n",
    "khv = geolocator.geocode('khv')\n",
    "svo = geolocator.geocode('svo')\n",
    "\n",
    "khv_point = Point(khv._tuple[1])\n",
    "svo_point = Point(svo._tuple[1])\n",
    "\n",
    "print(khv.address, svo.address, sep='\\n')\n",
    "print(f'Distance: {distance(khv_point, svo_point):.2f} km')"
   ]
  },
  {
   "cell_type": "code",
   "execution_count": null,
   "metadata": {},
   "outputs": [],
   "source": []
  }
 ],
 "metadata": {
  "kernelspec": {
   "display_name": "Python 3",
   "language": "python",
   "name": "python3"
  },
  "language_info": {
   "codemirror_mode": {
    "name": "ipython",
    "version": 3
   },
   "file_extension": ".py",
   "mimetype": "text/x-python",
   "name": "python",
   "nbconvert_exporter": "python",
   "pygments_lexer": "ipython3",
   "version": "3.7.7"
  }
 },
 "nbformat": 4,
 "nbformat_minor": 4
}
